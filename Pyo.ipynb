{
 "cells": [
  {
   "cell_type": "code",
   "execution_count": 2,
   "metadata": {},
   "outputs": [
    {
     "name": "stdout",
     "output_type": "stream",
     "text": [
      "\n",
      "WxPython is not found for the current python version.\n",
      "Pyo will use a minimal GUI toolkit written with Tkinter (if available).\n",
      "This toolkit has limited functionnalities and is no more\n",
      "maintained or updated. If you want to use all of pyo's\n",
      "GUI features, you should install WxPython, available here:\n",
      "http://www.wxpython.org/\n",
      "\n"
     ]
    }
   ],
   "source": [
    "from pyo import *"
   ]
  },
  {
   "cell_type": "code",
   "execution_count": 3,
   "metadata": {},
   "outputs": [
    {
     "data": {
      "text/plain": [
       "<pyo.lib.server.Server at 0x1bf218a5ec8>"
      ]
     },
     "execution_count": 3,
     "metadata": {},
     "output_type": "execute_result"
    }
   ],
   "source": [
    "# Creates a Server object with default arguments.\n",
    "# See the manual about how to change the sampling rate, the buffer\n",
    "# size, the number of channels or one of the other global settings.\n",
    "s = Server()\n",
    "\n",
    "# Boots the server. This step initializes audio and midi streams.\n",
    "# Audio and midi configurations (if any) must be done before that call.\n",
    "s.boot()\n",
    "\n",
    "# Starts the server. This step activates the server processing loop.\n",
    "s.start()"
   ]
  },
  {
   "cell_type": "code",
   "execution_count": 26,
   "metadata": {},
   "outputs": [],
   "source": [
    "# Drops the gain by 20 dB.\n",
    "s.amp = 0.1\n",
    "a = Sine().out()\n",
    "ch = Chorus(a).out()\n",
    "ch1 = Chorus(ch).out()\n",
    "sh = FreqShift(ch1).out()"
   ]
  },
  {
   "cell_type": "code",
   "execution_count": 27,
   "metadata": {},
   "outputs": [
    {
     "data": {
      "text/plain": [
       "< Instance of Sine class >"
      ]
     },
     "execution_count": 27,
     "metadata": {},
     "output_type": "execute_result"
    }
   ],
   "source": [
    "a.stop()"
   ]
  },
  {
   "cell_type": "code",
   "execution_count": 20,
   "metadata": {},
   "outputs": [],
   "source": [
    "# Creates a source (white noise)\n",
    "n = Noise()\n",
    "\n",
    "# Sends the bass frequencies (below 1000 Hz) to the left\n",
    "lp = ButLP(n).out()\n",
    "\n",
    "# Sends the high frequencies (above 1000 Hz) to the right\n",
    "hp = ButHP(n).out(1)"
   ]
  },
  {
   "cell_type": "code",
   "execution_count": 21,
   "metadata": {},
   "outputs": [
    {
     "data": {
      "text/plain": [
       "< Instance of Noise class >"
      ]
     },
     "execution_count": 21,
     "metadata": {},
     "output_type": "execute_result"
    }
   ],
   "source": [
    "n.stop()"
   ]
  },
  {
   "cell_type": "code",
   "execution_count": 6,
   "metadata": {},
   "outputs": [],
   "source": [
    "# Sets fundamental frequency\n",
    "freq = 200\n",
    "\n",
    "# Approximates a triangle waveform by adding odd harmonics with\n",
    "# amplitude proportional to the inverse square of the harmonic number.\n",
    "h1 = Sine(freq=freq, mul=1).out()\n",
    "h2 = Sine(freq=freq*3, phase=0.5, mul=1./pow(3,2)).out()\n",
    "h3 = Sine(freq=freq*5, mul=1./pow(5,2)).out()\n",
    "h4 = Sine(freq=freq*7, phase=0.5, mul=1./pow(7,2)).out()\n",
    "h5 = Sine(freq=freq*9, mul=1./pow(9,2)).out()\n",
    "h6 = Sine(freq=freq*11, phase=0.5, mul=1./pow(11,2)).out()\n",
    "\n",
    "# Displays the final waveform\n",
    "sp = Scope(h1+h2+h3+h4+h5+h6)"
   ]
  },
  {
   "cell_type": "code",
   "execution_count": 7,
   "metadata": {},
   "outputs": [
    {
     "data": {
      "text/plain": [
       "< Instance of Sine class >"
      ]
     },
     "execution_count": 7,
     "metadata": {},
     "output_type": "execute_result"
    }
   ],
   "source": [
    "h1.stop()\n",
    "h2.stop()\n",
    "h3.stop()\n",
    "h4.stop()\n",
    "h5.stop()\n",
    "h6.stop()"
   ]
  }
 ],
 "metadata": {
  "kernelspec": {
   "display_name": "Python 3",
   "language": "python",
   "name": "python3"
  },
  "language_info": {
   "codemirror_mode": {
    "name": "ipython",
    "version": 3
   },
   "file_extension": ".py",
   "mimetype": "text/x-python",
   "name": "python",
   "nbconvert_exporter": "python",
   "pygments_lexer": "ipython3",
   "version": "3.7.6"
  }
 },
 "nbformat": 4,
 "nbformat_minor": 4
}
